{
  "cells": [
    {
      "cell_type": "code",
      "execution_count": null,
      "metadata": {
        "id": "SdHud8DIIx8r"
      },
      "outputs": [],
      "source": [
        "import pandas as pd\n",
        "import numpy as np\n",
        "import matplotlib.pyplot as plt\n",
        "from sklearn.preprocessing import MinMaxScaler\n",
        "from tensorflow.keras.models import Sequential\n",
        "from tensorflow.keras.layers import LSTM, Dense\n",
        "import seaborn as sns"
      ]
    },
    {
      "cell_type": "code",
      "execution_count": null,
      "metadata": {
        "colab": {
          "base_uri": "https://localhost:8080/"
        },
        "id": "TukXrYRaJ9on",
        "outputId": "27092195-2058-4e95-bff6-1bfe50cb540f"
      },
      "outputs": [
        {
          "name": "stdout",
          "output_type": "stream",
          "text": [
            "   VendorID tpep_pickup_datetime tpep_dropoff_datetime  passenger_count  \\\n",
            "0         2  2024-01-01 00:57:55   2024-01-01 01:17:43              1.0   \n",
            "1         1  2024-01-01 00:03:00   2024-01-01 00:09:36              1.0   \n",
            "2         1  2024-01-01 00:17:06   2024-01-01 00:35:01              1.0   \n",
            "3         1  2024-01-01 00:36:38   2024-01-01 00:44:56              1.0   \n",
            "4         1  2024-01-01 00:46:51   2024-01-01 00:52:57              1.0   \n",
            "\n",
            "   trip_distance  RatecodeID store_and_fwd_flag  PULocationID  DOLocationID  \\\n",
            "0           1.72         1.0                  N           186            79   \n",
            "1           1.80         1.0                  N           140           236   \n",
            "2           4.70         1.0                  N           236            79   \n",
            "3           1.40         1.0                  N            79           211   \n",
            "4           0.80         1.0                  N           211           148   \n",
            "\n",
            "   payment_type  fare_amount  extra  mta_tax  tip_amount  tolls_amount  \\\n",
            "0             2         17.7    1.0      0.5        0.00           0.0   \n",
            "1             1         10.0    3.5      0.5        3.75           0.0   \n",
            "2             1         23.3    3.5      0.5        3.00           0.0   \n",
            "3             1         10.0    3.5      0.5        2.00           0.0   \n",
            "4             1          7.9    3.5      0.5        3.20           0.0   \n",
            "\n",
            "   improvement_surcharge  total_amount  congestion_surcharge  Airport_fee  \n",
            "0                    1.0         22.70                   2.5          0.0  \n",
            "1                    1.0         18.75                   2.5          0.0  \n",
            "2                    1.0         31.30                   2.5          0.0  \n",
            "3                    1.0         17.00                   2.5          0.0  \n",
            "4                    1.0         16.10                   2.5          0.0  \n"
          ]
        }
      ],
      "source": [
        "# Load the Parquet file\n",
        "file_path = \"/content/yellow_tripdata_2024-01.parquet\"\n",
        "df = pd.read_parquet(file_path)\n",
        "\n",
        "# View the first few rows\n",
        "print(df.head())"
      ]
    },
    {
      "cell_type": "code",
      "execution_count": null,
      "metadata": {
        "colab": {
          "base_uri": "https://localhost:8080/"
        },
        "id": "qtlnljd7KAZk",
        "outputId": "1e0c6a47-dfde-41eb-854d-9fdd79dcea50"
      },
      "outputs": [
        {
          "name": "stdout",
          "output_type": "stream",
          "text": [
            "<class 'pandas.core.frame.DataFrame'>\n",
            "RangeIndex: 2964624 entries, 0 to 2964623\n",
            "Data columns (total 19 columns):\n",
            " #   Column                 Dtype         \n",
            "---  ------                 -----         \n",
            " 0   VendorID               int32         \n",
            " 1   tpep_pickup_datetime   datetime64[us]\n",
            " 2   tpep_dropoff_datetime  datetime64[us]\n",
            " 3   passenger_count        float64       \n",
            " 4   trip_distance          float64       \n",
            " 5   RatecodeID             float64       \n",
            " 6   store_and_fwd_flag     object        \n",
            " 7   PULocationID           int32         \n",
            " 8   DOLocationID           int32         \n",
            " 9   payment_type           int64         \n",
            " 10  fare_amount            float64       \n",
            " 11  extra                  float64       \n",
            " 12  mta_tax                float64       \n",
            " 13  tip_amount             float64       \n",
            " 14  tolls_amount           float64       \n",
            " 15  improvement_surcharge  float64       \n",
            " 16  total_amount           float64       \n",
            " 17  congestion_surcharge   float64       \n",
            " 18  Airport_fee            float64       \n",
            "dtypes: datetime64[us](2), float64(12), int32(3), int64(1), object(1)\n",
            "memory usage: 395.8+ MB\n",
            "None\n"
          ]
        }
      ],
      "source": [
        "# Check column names and data types\n",
        "print(df.info())"
      ]
    },
    {
      "cell_type": "code",
      "execution_count": null,
      "metadata": {
        "colab": {
          "base_uri": "https://localhost:8080/"
        },
        "id": "O9GVfALiKCed",
        "outputId": "e81df33d-bedc-4f3b-cbd5-e3dca7e8acd0"
      },
      "outputs": [
        {
          "name": "stdout",
          "output_type": "stream",
          "text": [
            "VendorID                      0\n",
            "tpep_pickup_datetime          0\n",
            "tpep_dropoff_datetime         0\n",
            "passenger_count          140162\n",
            "trip_distance                 0\n",
            "RatecodeID               140162\n",
            "store_and_fwd_flag       140162\n",
            "PULocationID                  0\n",
            "DOLocationID                  0\n",
            "payment_type                  0\n",
            "fare_amount                   0\n",
            "extra                         0\n",
            "mta_tax                       0\n",
            "tip_amount                    0\n",
            "tolls_amount                  0\n",
            "improvement_surcharge         0\n",
            "total_amount                  0\n",
            "congestion_surcharge     140162\n",
            "Airport_fee              140162\n",
            "dtype: int64\n"
          ]
        }
      ],
      "source": [
        "# Check for missing values\n",
        "print(df.isnull().sum())"
      ]
    },
    {
      "cell_type": "code",
      "execution_count": null,
      "metadata": {
        "colab": {
          "base_uri": "https://localhost:8080/"
        },
        "id": "XgjSEUJ5KEWt",
        "outputId": "6ae56fe7-56c3-4834-9752-c3e577964b6d"
      },
      "outputs": [
        {
          "name": "stdout",
          "output_type": "stream",
          "text": [
            "           VendorID        tpep_pickup_datetime       tpep_dropoff_datetime  \\\n",
            "count  2.964624e+06                     2964624                     2964624   \n",
            "mean   1.754204e+00  2024-01-17 00:46:36.431092  2024-01-17 01:02:13.208130   \n",
            "min    1.000000e+00         2002-12-31 22:59:39         2002-12-31 23:05:41   \n",
            "25%    2.000000e+00  2024-01-09 15:59:19.750000         2024-01-09 16:16:23   \n",
            "50%    2.000000e+00  2024-01-17 10:45:37.500000  2024-01-17 11:03:51.500000   \n",
            "75%    2.000000e+00  2024-01-24 18:23:52.250000         2024-01-24 18:40:29   \n",
            "max    6.000000e+00         2024-02-01 00:01:15         2024-02-02 13:56:52   \n",
            "std    4.325902e-01                         NaN                         NaN   \n",
            "\n",
            "       passenger_count  trip_distance    RatecodeID  PULocationID  \\\n",
            "count     2.824462e+06   2.964624e+06  2.824462e+06  2.964624e+06   \n",
            "mean      1.339281e+00   3.652169e+00  2.069359e+00  1.660179e+02   \n",
            "min       0.000000e+00   0.000000e+00  1.000000e+00  1.000000e+00   \n",
            "25%       1.000000e+00   1.000000e+00  1.000000e+00  1.320000e+02   \n",
            "50%       1.000000e+00   1.680000e+00  1.000000e+00  1.620000e+02   \n",
            "75%       1.000000e+00   3.110000e+00  1.000000e+00  2.340000e+02   \n",
            "max       9.000000e+00   3.127223e+05  9.900000e+01  2.650000e+02   \n",
            "std       8.502817e-01   2.254626e+02  9.823219e+00  6.362391e+01   \n",
            "\n",
            "       DOLocationID  payment_type   fare_amount         extra       mta_tax  \\\n",
            "count  2.964624e+06  2.964624e+06  2.964624e+06  2.964624e+06  2.964624e+06   \n",
            "mean   1.651167e+02  1.161271e+00  1.817506e+01  1.451598e+00  4.833823e-01   \n",
            "min    1.000000e+00  0.000000e+00 -8.990000e+02 -7.500000e+00 -5.000000e-01   \n",
            "25%    1.140000e+02  1.000000e+00  8.600000e+00  0.000000e+00  5.000000e-01   \n",
            "50%    1.620000e+02  1.000000e+00  1.280000e+01  1.000000e+00  5.000000e-01   \n",
            "75%    2.340000e+02  1.000000e+00  2.050000e+01  2.500000e+00  5.000000e-01   \n",
            "max    2.650000e+02  4.000000e+00  5.000000e+03  1.425000e+01  4.000000e+00   \n",
            "std    6.931535e+01  5.808686e-01  1.894955e+01  1.804102e+00  1.177600e-01   \n",
            "\n",
            "         tip_amount  tolls_amount  improvement_surcharge  total_amount  \\\n",
            "count  2.964624e+06  2.964624e+06           2.964624e+06  2.964624e+06   \n",
            "mean   3.335870e+00  5.270212e-01           9.756319e-01  2.680150e+01   \n",
            "min   -8.000000e+01 -8.000000e+01          -1.000000e+00 -9.000000e+02   \n",
            "25%    1.000000e+00  0.000000e+00           1.000000e+00  1.538000e+01   \n",
            "50%    2.700000e+00  0.000000e+00           1.000000e+00  2.010000e+01   \n",
            "75%    4.120000e+00  0.000000e+00           1.000000e+00  2.856000e+01   \n",
            "max    4.280000e+02  1.159200e+02           1.000000e+00  5.000000e+03   \n",
            "std    3.896551e+00  2.128310e+00           2.183645e-01  2.338558e+01   \n",
            "\n",
            "       congestion_surcharge   Airport_fee  \n",
            "count          2.824462e+06  2.824462e+06  \n",
            "mean           2.256122e+00  1.411611e-01  \n",
            "min           -2.500000e+00 -1.750000e+00  \n",
            "25%            2.500000e+00  0.000000e+00  \n",
            "50%            2.500000e+00  0.000000e+00  \n",
            "75%            2.500000e+00  0.000000e+00  \n",
            "max            2.500000e+00  1.750000e+00  \n",
            "std            8.232747e-01  4.876239e-01  \n"
          ]
        }
      ],
      "source": [
        "# Statistical summary of numeric columns\n",
        "print(df.describe())"
      ]
    },
    {
      "cell_type": "code",
      "execution_count": null,
      "metadata": {
        "colab": {
          "base_uri": "https://localhost:8080/"
        },
        "id": "jW0q5-Ra3w5O",
        "outputId": "c7b5bad7-0cb3-4f80-8da7-0282868b0839"
      },
      "outputs": [
        {
          "name": "stdout",
          "output_type": "stream",
          "text": [
            "Original dataset size: 2964624\n",
            "Reduced dataset size: 1482312\n"
          ]
        }
      ],
      "source": [
        "# Reduce dataset to 10% of its original size\n",
        "df_reduced = df.sample(frac=0.5, random_state=42)  # Adjust random_state for reproducibility\n",
        "\n",
        "print(f\"Original dataset size: {len(df)}\")\n",
        "print(f\"Reduced dataset size: {len(df_reduced)}\")\n"
      ]
    },
    {
      "cell_type": "code",
      "execution_count": null,
      "metadata": {
        "colab": {
          "base_uri": "https://localhost:8080/"
        },
        "id": "QwVOF1MzKGOc",
        "outputId": "66c4d7ea-ee04-4b7d-f260-63b53e45012b"
      },
      "outputs": [
        {
          "name": "stderr",
          "output_type": "stream",
          "text": [
            "<ipython-input-7-fd6e1030ec65>:2: FutureWarning: A value is trying to be set on a copy of a DataFrame or Series through chained assignment using an inplace method.\n",
            "The behavior will change in pandas 3.0. This inplace method will never work because the intermediate object on which we are setting values always behaves as a copy.\n",
            "\n",
            "For example, when doing 'df[col].method(value, inplace=True)', try using 'df.method({col: value}, inplace=True)' or df[col] = df[col].method(value) instead, to perform the operation inplace on the original object.\n",
            "\n",
            "\n",
            "  df['passenger_count'].fillna(df['passenger_count'].median(), inplace=True)\n",
            "<ipython-input-7-fd6e1030ec65>:5: FutureWarning: A value is trying to be set on a copy of a DataFrame or Series through chained assignment using an inplace method.\n",
            "The behavior will change in pandas 3.0. This inplace method will never work because the intermediate object on which we are setting values always behaves as a copy.\n",
            "\n",
            "For example, when doing 'df[col].method(value, inplace=True)', try using 'df.method({col: value}, inplace=True)' or df[col] = df[col].method(value) instead, to perform the operation inplace on the original object.\n",
            "\n",
            "\n",
            "  df['RatecodeID'].fillna(df['RatecodeID'].mode()[0], inplace=True)\n",
            "<ipython-input-7-fd6e1030ec65>:8: FutureWarning: A value is trying to be set on a copy of a DataFrame or Series through chained assignment using an inplace method.\n",
            "The behavior will change in pandas 3.0. This inplace method will never work because the intermediate object on which we are setting values always behaves as a copy.\n",
            "\n",
            "For example, when doing 'df[col].method(value, inplace=True)', try using 'df.method({col: value}, inplace=True)' or df[col] = df[col].method(value) instead, to perform the operation inplace on the original object.\n",
            "\n",
            "\n",
            "  df['store_and_fwd_flag'].fillna('N', inplace=True)\n",
            "<ipython-input-7-fd6e1030ec65>:11: FutureWarning: A value is trying to be set on a copy of a DataFrame or Series through chained assignment using an inplace method.\n",
            "The behavior will change in pandas 3.0. This inplace method will never work because the intermediate object on which we are setting values always behaves as a copy.\n",
            "\n",
            "For example, when doing 'df[col].method(value, inplace=True)', try using 'df.method({col: value}, inplace=True)' or df[col] = df[col].method(value) instead, to perform the operation inplace on the original object.\n",
            "\n",
            "\n",
            "  df['congestion_surcharge'].fillna(0, inplace=True)\n",
            "<ipython-input-7-fd6e1030ec65>:12: FutureWarning: A value is trying to be set on a copy of a DataFrame or Series through chained assignment using an inplace method.\n",
            "The behavior will change in pandas 3.0. This inplace method will never work because the intermediate object on which we are setting values always behaves as a copy.\n",
            "\n",
            "For example, when doing 'df[col].method(value, inplace=True)', try using 'df.method({col: value}, inplace=True)' or df[col] = df[col].method(value) instead, to perform the operation inplace on the original object.\n",
            "\n",
            "\n",
            "  df['Airport_fee'].fillna(0, inplace=True)\n"
          ]
        },
        {
          "name": "stdout",
          "output_type": "stream",
          "text": [
            "VendorID                 0\n",
            "tpep_pickup_datetime     0\n",
            "tpep_dropoff_datetime    0\n",
            "passenger_count          0\n",
            "trip_distance            0\n",
            "RatecodeID               0\n",
            "store_and_fwd_flag       0\n",
            "PULocationID             0\n",
            "DOLocationID             0\n",
            "payment_type             0\n",
            "fare_amount              0\n",
            "extra                    0\n",
            "mta_tax                  0\n",
            "tip_amount               0\n",
            "tolls_amount             0\n",
            "improvement_surcharge    0\n",
            "total_amount             0\n",
            "congestion_surcharge     0\n",
            "Airport_fee              0\n",
            "dtype: int64\n"
          ]
        }
      ],
      "source": [
        "# Fill missing values for passenger_count with the median\n",
        "df['passenger_count'].fillna(df['passenger_count'].median(), inplace=True)\n",
        "\n",
        "# Fill missing values for RatecodeID with the mode (most frequent value)\n",
        "df['RatecodeID'].fillna(df['RatecodeID'].mode()[0], inplace=True)\n",
        "\n",
        "# Fill missing values for store_and_fwd_flag with 'N' (default for \"not stored\")\n",
        "df['store_and_fwd_flag'].fillna('N', inplace=True)\n",
        "\n",
        "# Fill missing values for congestion_surcharge and Airport_fee with 0\n",
        "df['congestion_surcharge'].fillna(0, inplace=True)\n",
        "df['Airport_fee'].fillna(0, inplace=True)\n",
        "\n",
        "# Replace negative or invalid values in certain columns with 0\n",
        "columns_to_fix = ['extra', 'mta_tax', 'tolls_amount', 'congestion_surcharge', 'Airport_fee']\n",
        "for col in columns_to_fix:\n",
        "    df[col] = df[col].apply(lambda x: max(x, 0))  # Replace negative values with 0\n",
        "\n",
        "# Confirm there are no missing values left\n",
        "print(df.isnull().sum())"
      ]
    },
    {
      "cell_type": "markdown",
      "metadata": {
        "id": "-XtU0ydOaSHS"
      },
      "source": [
        "# New Section"
      ]
    },
    {
      "cell_type": "code",
      "execution_count": null,
      "metadata": {
        "colab": {
          "base_uri": "https://localhost:8080/",
          "height": 866
        },
        "id": "draIVaBqKIq7",
        "outputId": "31922b0d-7c5b-4730-e3c4-ca6941f0cc65"
      },
      "outputs": [
        {
          "name": "stdout",
          "output_type": "stream",
          "text": [
            "Data after removing outliers: 2645823 rows\n"
          ]
        },
        {
          "data": {
            "image/png": "[encoded data removed]",
            "text/plain": [
              "<Figure size 640x480 with 1 Axes>"
            ]
          },
          "metadata": {},
          "output_type": "display_data"
        },
        {
          "data": {
            "image/png": "[encoded data removed]",
            "text/plain": [
              "<Figure size 640x480 with 1 Axes>"
            ]
          },
          "metadata": {},
          "output_type": "display_data"
        }
      ],
      "source": [
        "#identify numerical and categorical features\n",
        "numerical_features = df.select_dtypes(include=np.number).columns\n",
        "categorical_features = df.select_dtypes(exclude=np.number).columns\n",
        "\n",
        "# Remove outliers based on the IQR method for 'fare_amount'\n",
        "Q1 = df['fare_amount'].quantile(0.25)\n",
        "Q3 = df['fare_amount'].quantile(0.75)\n",
        "IQR = Q3 - Q1\n",
        "\n",
        "# Define outlier boundaries\n",
        "lower_bound = Q1 - 1.5 * IQR\n",
        "upper_bound = Q3 + 1.5 * IQR\n",
        "\n",
        "# Filter out the outliers\n",
        "df_filtered = df[(df['fare_amount'] >= lower_bound) & (df['fare_amount'] <= upper_bound)]\n",
        "\n",
        "# Check how much data was removed\n",
        "print(f\"Data after removing outliers: {df_filtered.shape[0]} rows\")\n",
        "\n",
        "# Visualize the fare_amount before and after removing outliers\n",
        "sns.boxplot(df['fare_amount'])\n",
        "plt.title('Fare Amount Before Removing Outliers')\n",
        "plt.show()\n",
        "\n",
        "sns.boxplot(df_filtered['fare_amount'])\n",
        "plt.title('Fare Amount After Removing Outliers')\n",
        "plt.show()"
      ]
    },
    {
      "cell_type": "code",
      "execution_count": null,
      "metadata": {
        "colab": {
          "base_uri": "https://localhost:8080/"
        },
        "id": "VqfzsGwVKLkx",
        "outputId": "f4d55843-b5ba-4c0d-dfd6-0de9b580f1c3"
      },
      "outputs": [
        {
          "name": "stderr",
          "output_type": "stream",
          "text": [
            "<ipython-input-9-ab613ee54e2a>:2: SettingWithCopyWarning: \n",
            "A value is trying to be set on a copy of a slice from a DataFrame.\n",
            "Try using .loc[row_indexer,col_indexer] = value instead\n",
            "\n",
            "See the caveats in the documentation: https://pandas.pydata.org/pandas-docs/stable/user_guide/indexing.html#returning-a-view-versus-a-copy\n",
            "  df_filtered['pickup_datetime'] = pd.to_datetime(df_filtered['tpep_pickup_datetime'])\n",
            "<ipython-input-9-ab613ee54e2a>:3: SettingWithCopyWarning: \n",
            "A value is trying to be set on a copy of a slice from a DataFrame.\n",
            "Try using .loc[row_indexer,col_indexer] = value instead\n",
            "\n",
            "See the caveats in the documentation: https://pandas.pydata.org/pandas-docs/stable/user_guide/indexing.html#returning-a-view-versus-a-copy\n",
            "  df_filtered['dropoff_datetime'] = pd.to_datetime(df_filtered['tpep_dropoff_datetime'])\n",
            "<ipython-input-9-ab613ee54e2a>:6: SettingWithCopyWarning: \n",
            "A value is trying to be set on a copy of a slice from a DataFrame.\n",
            "Try using .loc[row_indexer,col_indexer] = value instead\n",
            "\n",
            "See the caveats in the documentation: https://pandas.pydata.org/pandas-docs/stable/user_guide/indexing.html#returning-a-view-versus-a-copy\n",
            "  df_filtered['hour_of_day'] = df_filtered['pickup_datetime'].dt.hour\n",
            "<ipython-input-9-ab613ee54e2a>:7: SettingWithCopyWarning: \n",
            "A value is trying to be set on a copy of a slice from a DataFrame.\n",
            "Try using .loc[row_indexer,col_indexer] = value instead\n",
            "\n",
            "See the caveats in the documentation: https://pandas.pydata.org/pandas-docs/stable/user_guide/indexing.html#returning-a-view-versus-a-copy\n",
            "  df_filtered['minute'] = df_filtered['pickup_datetime'].dt.minute\n",
            "<ipython-input-9-ab613ee54e2a>:8: SettingWithCopyWarning: \n",
            "A value is trying to be set on a copy of a slice from a DataFrame.\n",
            "Try using .loc[row_indexer,col_indexer] = value instead\n",
            "\n",
            "See the caveats in the documentation: https://pandas.pydata.org/pandas-docs/stable/user_guide/indexing.html#returning-a-view-versus-a-copy\n",
            "  df_filtered['day_of_week'] = df_filtered['pickup_datetime'].dt.dayofweek\n",
            "<ipython-input-9-ab613ee54e2a>:9: SettingWithCopyWarning: \n",
            "A value is trying to be set on a copy of a slice from a DataFrame.\n",
            "Try using .loc[row_indexer,col_indexer] = value instead\n",
            "\n",
            "See the caveats in the documentation: https://pandas.pydata.org/pandas-docs/stable/user_guide/indexing.html#returning-a-view-versus-a-copy\n",
            "  df_filtered['month'] = df_filtered['pickup_datetime'].dt.month\n"
          ]
        }
      ],
      "source": [
        "# Feature Engineering: Extract useful features from datetime columns\n",
        "df_filtered['pickup_datetime'] = pd.to_datetime(df_filtered['tpep_pickup_datetime'])\n",
        "df_filtered['dropoff_datetime'] = pd.to_datetime(df_filtered['tpep_dropoff_datetime'])\n",
        "\n",
        "# Extract date-time features\n",
        "df_filtered['hour_of_day'] = df_filtered['pickup_datetime'].dt.hour\n",
        "df_filtered['minute'] = df_filtered['pickup_datetime'].dt.minute\n",
        "df_filtered['day_of_week'] = df_filtered['pickup_datetime'].dt.dayofweek\n",
        "df_filtered['month'] = df_filtered['pickup_datetime'].dt.month"
      ]
    },
    {
      "cell_type": "code",
      "execution_count": null,
      "metadata": {
        "id": "W7V76D0HKOWS"
      },
      "outputs": [],
      "source": [
        "# Select relevant features for prediction\n",
        "features = ['trip_distance', 'hour_of_day', 'minute', 'day_of_week', 'month', 'passenger_count']\n",
        "target = 'fare_amount'\n",
        "\n",
        "# Prepare the data\n",
        "X = df_filtered[features]\n",
        "y = df_filtered[target]\n",
        "\n",
        "# Normalize the features using MinMaxScaler\n",
        "scaler_features = MinMaxScaler()\n",
        "scaler_target = MinMaxScaler()\n",
        "\n",
        "X_scaled = scaler_features.fit_transform(X)\n",
        "y_scaled = scaler_target.fit_transform(y.values.reshape(-1, 1))\n",
        "\n",
        "# Reshape data for LSTM input (samples, time steps, features)\n",
        "X_scaled = X_scaled.reshape((X_scaled.shape[0], 1, X_scaled.shape[1]))"
      ]
    },
    {
      "cell_type": "code",
      "execution_count": null,
      "metadata": {
        "colab": {
          "base_uri": "https://localhost:8080/"
        },
        "id": "etfsUdqBKRWs",
        "outputId": "325ad07e-07d6-4fc5-d1f8-d67c3018635f"
      },
      "outputs": [
        {
          "name": "stderr",
          "output_type": "stream",
          "text": [
            "/usr/local/lib/python3.11/dist-packages/keras/src/layers/rnn/rnn.py:200: UserWarning: Do not pass an `input_shape`/`input_dim` argument to a layer. When using Sequential models, prefer using an `Input(shape)` object as the first layer in the model instead.\n",
            "  super().__init__(**kwargs)\n"
          ]
        },
        {
          "name": "stdout",
          "output_type": "stream",
          "text": [
            "Epoch 1/20\n",
            "\u001b[1m66146/66146\u001b[0m \u001b[32m━━━━━━━━━━━━━━━━━━━━\u001b[0m\u001b[37m\u001b[0m \u001b[1m205s\u001b[0m 3ms/step - loss: 0.0242 - val_loss: 0.0272\n",
            "Epoch 2/20\n",
            "\u001b[1m66146/66146\u001b[0m \u001b[32m━━━━━━━━━━━━━━━━━━━━\u001b[0m\u001b[37m\u001b[0m \u001b[1m209s\u001b[0m 3ms/step - loss: 0.0235 - val_loss: 0.0276\n",
            "Epoch 3/20\n",
            "\u001b[1m66146/66146\u001b[0m \u001b[32m━━━━━━━━━━━━━━━━━━━━\u001b[0m\u001b[37m\u001b[0m \u001b[1m205s\u001b[0m 3ms/step - loss: 0.0235 - val_loss: 0.0295\n",
            "Epoch 4/20\n",
            "\u001b[1m66146/66146\u001b[0m \u001b[32m━━━━━━━━━━━━━━━━━━━━\u001b[0m\u001b[37m\u001b[0m \u001b[1m261s\u001b[0m 3ms/step - loss: 0.0234 - val_loss: 0.0338\n",
            "Epoch 5/20\n",
            "\u001b[1m66146/66146\u001b[0m \u001b[32m━━━━━━━━━━━━━━━━━━━━\u001b[0m\u001b[37m\u001b[0m \u001b[1m191s\u001b[0m 3ms/step - loss: 0.0235 - val_loss: 0.0421\n",
            "Epoch 6/20\n",
            "\u001b[1m66146/66146\u001b[0m \u001b[32m━━━━━━━━━━━━━━━━━━━━\u001b[0m\u001b[37m\u001b[0m \u001b[1m189s\u001b[0m 3ms/step - loss: 0.0234 - val_loss: 2.6133\n",
            "Epoch 7/20\n",
            "\u001b[1m66146/66146\u001b[0m \u001b[32m━━━━━━━━━━━━━━━━━━━━\u001b[0m\u001b[37m\u001b[0m \u001b[1m217s\u001b[0m 3ms/step - loss: 0.0627 - val_loss: 863.1406\n",
            "Epoch 8/20\n",
            "\u001b[1m66146/66146\u001b[0m \u001b[32m━━━━━━━━━━━━━━━━━━━━\u001b[0m\u001b[37m\u001b[0m \u001b[1m262s\u001b[0m 3ms/step - loss: 0.3329 - val_loss: 775.8480\n",
            "Epoch 9/20\n",
            "\u001b[1m66146/66146\u001b[0m \u001b[32m━━━━━━━━━━━━━━━━━━━━\u001b[0m\u001b[37m\u001b[0m \u001b[1m246s\u001b[0m 3ms/step - loss: 0.7689 - val_loss: 706.5260\n",
            "Epoch 10/20\n",
            "\u001b[1m66146/66146\u001b[0m \u001b[32m━━━━━━━━━━━━━━━━━━━━\u001b[0m\u001b[37m\u001b[0m \u001b[1m204s\u001b[0m 3ms/step - loss: 0.0244 - val_loss: 631.3192\n",
            "Epoch 11/20\n",
            "\u001b[1m66146/66146\u001b[0m \u001b[32m━━━━━━━━━━━━━━━━━━━━\u001b[0m\u001b[37m\u001b[0m \u001b[1m245s\u001b[0m 3ms/step - loss: 0.1914 - val_loss: 593.0997\n",
            "Epoch 12/20\n",
            "\u001b[1m66146/66146\u001b[0m \u001b[32m━━━━━━━━━━━━━━━━━━━━\u001b[0m\u001b[37m\u001b[0m \u001b[1m207s\u001b[0m 3ms/step - loss: 0.1883 - val_loss: 415.1429\n",
            "Epoch 13/20\n",
            "\u001b[1m66146/66146\u001b[0m \u001b[32m━━━━━━━━━━━━━━━━━━━━\u001b[0m\u001b[37m\u001b[0m \u001b[1m260s\u001b[0m 3ms/step - loss: 0.1409 - val_loss: 362.2145\n",
            "Epoch 14/20\n",
            "\u001b[1m66146/66146\u001b[0m \u001b[32m━━━━━━━━━━━━━━━━━━━━\u001b[0m\u001b[37m\u001b[0m \u001b[1m265s\u001b[0m 3ms/step - loss: 0.1316 - val_loss: 322.7212\n",
            "Epoch 15/20\n",
            "\u001b[1m66146/66146\u001b[0m \u001b[32m━━━━━━━━━━━━━━━━━━━━\u001b[0m\u001b[37m\u001b[0m \u001b[1m245s\u001b[0m 3ms/step - loss: 0.0604 - val_loss: 283.6817\n",
            "Epoch 16/20\n",
            "\u001b[1m66146/66146\u001b[0m \u001b[32m━━━━━━━━━━━━━━━━━━━━\u001b[0m\u001b[37m\u001b[0m \u001b[1m216s\u001b[0m 3ms/step - loss: 0.0233 - val_loss: 244.9926\n",
            "Epoch 17/20\n",
            "\u001b[1m66146/66146\u001b[0m \u001b[32m━━━━━━━━━━━━━━━━━━━━\u001b[0m\u001b[37m\u001b[0m \u001b[1m262s\u001b[0m 3ms/step - loss: 0.0305 - val_loss: 226.1788\n",
            "Epoch 18/20\n",
            "\u001b[1m66146/66146\u001b[0m \u001b[32m━━━━━━━━━━━━━━━━━━━━\u001b[0m\u001b[37m\u001b[0m \u001b[1m206s\u001b[0m 3ms/step - loss: 0.0917 - val_loss: 198.9619\n",
            "Epoch 19/20\n",
            "\u001b[1m66146/66146\u001b[0m \u001b[32m━━━━━━━━━━━━━━━━━━━━\u001b[0m\u001b[37m\u001b[0m \u001b[1m205s\u001b[0m 3ms/step - loss: 0.0376 - val_loss: 172.4345\n",
            "Epoch 20/20\n",
            "\u001b[1m66146/66146\u001b[0m \u001b[32m━━━━━━━━━━━━━━━━━━━━\u001b[0m\u001b[37m\u001b[0m \u001b[1m263s\u001b[0m 3ms/step - loss: 0.0226 - val_loss: 145.8057\n"
          ]
        },
        {
          "data": {
            "text/plain": [
              "<keras.src.callbacks.history.History at 0x7d6950357e90>"
            ]
          },
          "execution_count": 11,
          "metadata": {},
          "output_type": "execute_result"
        }
      ],
      "source": [
        "# Build the RNN model\n",
        "model = Sequential()\n",
        "model.add(LSTM(64, activation='relu', input_shape=(X_scaled.shape[1], X_scaled.shape[2])))\n",
        "model.add(Dense(32, activation='relu'))\n",
        "model.add(Dense(1))  # Output layer\n",
        "\n",
        "model.compile(optimizer='adam', loss='mse')\n",
        "\n",
        "# Train the model\n",
        "model.fit(X_scaled, y_scaled, epochs=20, batch_size=32, validation_split=0.2)"
      ]
    },
    {
      "cell_type": "code",
      "execution_count": null,
      "metadata": {
        "colab": {
          "base_uri": "https://localhost:8080/"
        },
        "id": "kvFXvnCRK3AV",
        "outputId": "f6041cf8-49d7-49b2-dac6-efe014317735"
      },
      "outputs": [
        {
          "output_type": "stream",
          "name": "stdout",
          "text": [
            "Drive already mounted at /content/drive; to attempt to forcibly remount, call drive.mount(\"/content/drive\", force_remount=True).\n"
          ]
        }
      ],
      "source": [
        "from google.colab import drive\n",
        "drive.mount('/content/drive')"
      ]
    },
    {
      "cell_type": "code",
      "execution_count": null,
      "metadata": {
        "colab": {
          "base_uri": "https://localhost:8080/"
        },
        "id": "kt7KdIokKTwU",
        "outputId": "e02e017e-7f6a-45b6-d557-1dc23e284df3"
      },
      "outputs": [
        {
          "name": "stdout",
          "output_type": "stream",
          "text": [
            "Drive already mounted at /content/drive; to attempt to forcibly remount, call drive.mount(\"/content/drive\", force_remount=True).\n"
          ]
        },
        {
          "data": {
            "text/plain": [
              "['/content/drive/MyDrive/tax_scaler_target.pkl']"
            ]
          },
          "execution_count": 13,
          "metadata": {},
          "output_type": "execute_result"
        }
      ],
      "source": [
        "from google.colab import drive\n",
        "drive.mount('/content/drive')\n",
        "\n",
        "# Save the model_\n",
        "model.save('/content/drive/MyDrive/taxi_fare_prediction_model.keras')\n",
        "\n",
        "# Save the preprocessed dataset\n",
        "df_filtered.to_csv('/content/drive/MyDrive/taxi_fare_prediction_data.csv', index=False)\n",
        "\n",
        "# Save the scalers\n",
        "import joblib\n",
        "joblib.dump(scaler_features, '/content/drive/MyDrive/tax_scaler_features.pkl')\n",
        "joblib.dump(scaler_target, '/content/drive/MyDrive/tax_scaler_target.pkl')"
      ]
    },
    {
      "cell_type": "code",
      "execution_count": null,
      "metadata": {
        "colab": {
          "base_uri": "https://localhost:8080/"
        },
        "id": "1dBFeqk8lq5x",
        "outputId": "5eb48f9a-a608-4719-a509-162da82346e6"
      },
      "outputs": [
        {
          "output_type": "stream",
          "name": "stdout",
          "text": [
            "\u001b[1m 8279/82682\u001b[0m \u001b[32m━━\u001b[0m\u001b[37m━━━━━━━━━━━━━━━━━━\u001b[0m \u001b[1m2:07\u001b[0m 2ms/step"
          ]
        }
      ],
      "source": [
        "# prompt: predict on test data and plot actual and predicted\n",
        "\n",
        "import pandas as pd\n",
        "import numpy as np\n",
        "import matplotlib.pyplot as plt\n",
        "from sklearn.preprocessing import MinMaxScaler\n",
        "import joblib\n",
        "from tensorflow.keras.models import load_model\n",
        "\n",
        "# Load the saved model and scalers\n",
        "model = load_model('/content/drive/MyDrive/taxi_fare_prediction_model.keras')\n",
        "scaler_features = joblib.load('/content/drive/MyDrive/tax_scaler_features.pkl')\n",
        "scaler_target = joblib.load('/content/drive/MyDrive/tax_scaler_target.pkl')\n",
        "\n",
        "# Load the test data (replace with your actual test data path)\n",
        "test_data_path = '/content/drive/MyDrive/taxi_fare_prediction_data.csv'\n",
        "test_df = pd.read_csv(test_data_path)\n",
        "\n",
        "\n",
        "# Select relevant features for prediction\n",
        "features = ['trip_distance', 'hour_of_day', 'minute', 'day_of_week', 'month', 'passenger_count']\n",
        "target = 'fare_amount'\n",
        "\n",
        "\n",
        "# Prepare the test data\n",
        "X_test = test_df[features]\n",
        "y_test = test_df[target]\n",
        "\n",
        "# Scale the test features\n",
        "X_test_scaled = scaler_features.transform(X_test)\n",
        "\n",
        "# Reshape for LSTM input\n",
        "X_test_scaled = X_test_scaled.reshape((X_test_scaled.shape[0], 1, X_test_scaled.shape[1]))\n",
        "\n",
        "# Make predictions\n",
        "y_pred_scaled = model.predict(X_test_scaled)\n",
        "\n",
        "# Inverse transform the predictions to get actual fare amounts\n",
        "y_pred = scaler_target.inverse_transform(y_pred_scaled)\n",
        "\n",
        "# Plot actual vs. predicted\n",
        "plt.figure(figsize=(10, 6))\n",
        "plt.plot(y_test.values[:100], label='Actual')  # Limit to 100 points for better visibility\n",
        "plt.plot(y_pred[:100], label='Predicted')\n",
        "plt.xlabel('Sample')\n",
        "plt.ylabel('Fare Amount')\n",
        "plt.title('Actual vs. Predicted Fare Amounts')\n",
        "plt.legend()\n",
        "\n",
        "plt.show()\n"
      ]
    },
    {
      "cell_type": "code",
      "execution_count": null,
      "metadata": {
        "colab": {
          "base_uri": "https://localhost:8080/"
        },
        "id": "zrfEhrnagP4l",
        "outputId": "5de1e0f5-52a2-48dc-9c5b-5b036cee38c8"
      },
      "outputs": [
        {
          "name": "stdout",
          "output_type": "stream",
          "text": [
            "Collecting gradio\n",
            "  Downloading gradio-5.23.1-py3-none-any.whl.metadata (16 kB)\n",
            "Collecting aiofiles<24.0,>=22.0 (from gradio)\n",
            "  Downloading aiofiles-23.2.1-py3-none-any.whl.metadata (9.7 kB)\n",
            "Requirement already satisfied: anyio<5.0,>=3.0 in /usr/local/lib/python3.11/dist-packages (from gradio) (4.9.0)\n",
            "Collecting fastapi<1.0,>=0.115.2 (from gradio)\n",
            "  Downloading fastapi-0.115.12-py3-none-any.whl.metadata (27 kB)\n",
            "Collecting ffmpy (from gradio)\n",
            "  Downloading ffmpy-0.5.0-py3-none-any.whl.metadata (3.0 kB)\n",
            "Collecting gradio-client==1.8.0 (from gradio)\n",
            "  Downloading gradio_client-1.8.0-py3-none-any.whl.metadata (7.1 kB)\n",
            "Collecting groovy~=0.1 (from gradio)\n",
            "  Downloading groovy-0.1.2-py3-none-any.whl.metadata (6.1 kB)\n",
            "Requirement already satisfied: httpx>=0.24.1 in /usr/local/lib/python3.11/dist-packages (from gradio) (0.28.1)\n",
            "Requirement already satisfied: huggingface-hub>=0.28.1 in /usr/local/lib/python3.11/dist-packages (from gradio) (0.29.3)\n",
            "Requirement already satisfied: jinja2<4.0 in /usr/local/lib/python3.11/dist-packages (from gradio) (3.1.6)\n",
            "Requirement already satisfied: markupsafe<4.0,>=2.0 in /usr/local/lib/python3.11/dist-packages (from gradio) (3.0.2)\n",
            "Requirement already satisfied: numpy<3.0,>=1.0 in /usr/local/lib/python3.11/dist-packages (from gradio) (2.0.2)\n",
            "Requirement already satisfied: orjson~=3.0 in /usr/local/lib/python3.11/dist-packages (from gradio) (3.10.15)\n",
            "Requirement already satisfied: packaging in /usr/local/lib/python3.11/dist-packages (from gradio) (24.2)\n",
            "Requirement already satisfied: pandas<3.0,>=1.0 in /usr/local/lib/python3.11/dist-packages (from gradio) (2.2.2)\n",
            "Requirement already satisfied: pillow<12.0,>=8.0 in /usr/local/lib/python3.11/dist-packages (from gradio) (11.1.0)\n",
            "Requirement already satisfied: pydantic>=2.0 in /usr/local/lib/python3.11/dist-packages (from gradio) (2.10.6)\n",
            "Collecting pydub (from gradio)\n",
            "  Downloading pydub-0.25.1-py2.py3-none-any.whl.metadata (1.4 kB)\n",
            "Collecting python-multipart>=0.0.18 (from gradio)\n",
            "  Downloading python_multipart-0.0.20-py3-none-any.whl.metadata (1.8 kB)\n",
            "Requirement already satisfied: pyyaml<7.0,>=5.0 in /usr/local/lib/python3.11/dist-packages (from gradio) (6.0.2)\n",
            "Collecting ruff>=0.9.3 (from gradio)\n",
            "  Downloading ruff-0.11.2-py3-none-manylinux_2_17_x86_64.manylinux2014_x86_64.whl.metadata (25 kB)\n",
            "Collecting safehttpx<0.2.0,>=0.1.6 (from gradio)\n",
            "  Downloading safehttpx-0.1.6-py3-none-any.whl.metadata (4.2 kB)\n",
            "Collecting semantic-version~=2.0 (from gradio)\n",
            "  Downloading semantic_version-2.10.0-py2.py3-none-any.whl.metadata (9.7 kB)\n",
            "Collecting starlette<1.0,>=0.40.0 (from gradio)\n",
            "  Downloading starlette-0.46.1-py3-none-any.whl.metadata (6.2 kB)\n",
            "Collecting tomlkit<0.14.0,>=0.12.0 (from gradio)\n",
            "  Downloading tomlkit-0.13.2-py3-none-any.whl.metadata (2.7 kB)\n",
            "Requirement already satisfied: typer<1.0,>=0.12 in /usr/local/lib/python3.11/dist-packages (from gradio) (0.15.2)\n",
            "Requirement already satisfied: typing-extensions~=4.0 in /usr/local/lib/python3.11/dist-packages (from gradio) (4.12.2)\n",
            "Collecting uvicorn>=0.14.0 (from gradio)\n",
            "  Downloading uvicorn-0.34.0-py3-none-any.whl.metadata (6.5 kB)\n",
            "Requirement already satisfied: fsspec in /usr/local/lib/python3.11/dist-packages (from gradio-client==1.8.0->gradio) (2025.3.0)\n",
            "Requirement already satisfied: websockets<16.0,>=10.0 in /usr/local/lib/python3.11/dist-packages (from gradio-client==1.8.0->gradio) (15.0.1)\n",
            "Requirement already satisfied: idna>=2.8 in /usr/local/lib/python3.11/dist-packages (from anyio<5.0,>=3.0->gradio) (3.10)\n",
            "Requirement already satisfied: sniffio>=1.1 in /usr/local/lib/python3.11/dist-packages (from anyio<5.0,>=3.0->gradio) (1.3.1)\n",
            "Requirement already satisfied: certifi in /usr/local/lib/python3.11/dist-packages (from httpx>=0.24.1->gradio) (2025.1.31)\n",
            "Requirement already satisfied: httpcore==1.* in /usr/local/lib/python3.11/dist-packages (from httpx>=0.24.1->gradio) (1.0.7)\n",
            "Requirement already satisfied: h11<0.15,>=0.13 in /usr/local/lib/python3.11/dist-packages (from httpcore==1.*->httpx>=0.24.1->gradio) (0.14.0)\n",
            "Requirement already satisfied: filelock in /usr/local/lib/python3.11/dist-packages (from huggingface-hub>=0.28.1->gradio) (3.18.0)\n",
            "Requirement already satisfied: requests in /usr/local/lib/python3.11/dist-packages (from huggingface-hub>=0.28.1->gradio) (2.32.3)\n",
            "Requirement already satisfied: tqdm>=4.42.1 in /usr/local/lib/python3.11/dist-packages (from huggingface-hub>=0.28.1->gradio) (4.67.1)\n",
            "Requirement already satisfied: python-dateutil>=2.8.2 in /usr/local/lib/python3.11/dist-packages (from pandas<3.0,>=1.0->gradio) (2.8.2)\n",
            "Requirement already satisfied: pytz>=2020.1 in /usr/local/lib/python3.11/dist-packages (from pandas<3.0,>=1.0->gradio) (2025.1)\n",
            "Requirement already satisfied: tzdata>=2022.7 in /usr/local/lib/python3.11/dist-packages (from pandas<3.0,>=1.0->gradio) (2025.1)\n",
            "Requirement already satisfied: annotated-types>=0.6.0 in /usr/local/lib/python3.11/dist-packages (from pydantic>=2.0->gradio) (0.7.0)\n",
            "Requirement already satisfied: pydantic-core==2.27.2 in /usr/local/lib/python3.11/dist-packages (from pydantic>=2.0->gradio) (2.27.2)\n",
            "Requirement already satisfied: click>=8.0.0 in /usr/local/lib/python3.11/dist-packages (from typer<1.0,>=0.12->gradio) (8.1.8)\n",
            "Requirement already satisfied: shellingham>=1.3.0 in /usr/local/lib/python3.11/dist-packages (from typer<1.0,>=0.12->gradio) (1.5.4)\n",
            "Requirement already satisfied: rich>=10.11.0 in /usr/local/lib/python3.11/dist-packages (from typer<1.0,>=0.12->gradio) (13.9.4)\n",
            "Requirement already satisfied: six>=1.5 in /usr/local/lib/python3.11/dist-packages (from python-dateutil>=2.8.2->pandas<3.0,>=1.0->gradio) (1.17.0)\n",
            "Requirement already satisfied: markdown-it-py>=2.2.0 in /usr/local/lib/python3.11/dist-packages (from rich>=10.11.0->typer<1.0,>=0.12->gradio) (3.0.0)\n",
            "Requirement already satisfied: pygments<3.0.0,>=2.13.0 in /usr/local/lib/python3.11/dist-packages (from rich>=10.11.0->typer<1.0,>=0.12->gradio) (2.18.0)\n",
            "Requirement already satisfied: charset-normalizer<4,>=2 in /usr/local/lib/python3.11/dist-packages (from requests->huggingface-hub>=0.28.1->gradio) (3.4.1)\n",
            "Requirement already satisfied: urllib3<3,>=1.21.1 in /usr/local/lib/python3.11/dist-packages (from requests->huggingface-hub>=0.28.1->gradio) (2.3.0)\n",
            "Requirement already satisfied: mdurl~=0.1 in /usr/local/lib/python3.11/dist-packages (from markdown-it-py>=2.2.0->rich>=10.11.0->typer<1.0,>=0.12->gradio) (0.1.2)\n",
            "Downloading gradio-5.23.1-py3-none-any.whl (51.3 MB)\n",
            "\u001b[2K   \u001b[90m━━━━━━━━━━━━━━━━━━━━━━━━━━━━━━━━━━━━━━━━\u001b[0m \u001b[32m51.3/51.3 MB\u001b[0m \u001b[31m11.5 MB/s\u001b[0m eta \u001b[36m0:00:00\u001b[0m\n",
            "\u001b[?25hDownloading gradio_client-1.8.0-py3-none-any.whl (322 kB)\n",
            "\u001b[2K   \u001b[90m━━━━━━━━━━━━━━━━━━━━━━━━━━━━━━━━━━━━━━━━\u001b[0m \u001b[32m322.2/322.2 kB\u001b[0m \u001b[31m22.5 MB/s\u001b[0m eta \u001b[36m0:00:00\u001b[0m\n",
            "\u001b[?25hDownloading aiofiles-23.2.1-py3-none-any.whl (15 kB)\n",
            "Downloading fastapi-0.115.12-py3-none-any.whl (95 kB)\n",
            "\u001b[2K   \u001b[90m━━━━━━━━━━━━━━━━━━━━━━━━━━━━━━━━━━━━━━━━\u001b[0m \u001b[32m95.2/95.2 kB\u001b[0m \u001b[31m8.1 MB/s\u001b[0m eta \u001b[36m0:00:00\u001b[0m\n",
            "\u001b[?25hDownloading groovy-0.1.2-py3-none-any.whl (14 kB)\n",
            "Downloading python_multipart-0.0.20-py3-none-any.whl (24 kB)\n",
            "Downloading ruff-0.11.2-py3-none-manylinux_2_17_x86_64.manylinux2014_x86_64.whl (11.3 MB)\n",
            "\u001b[2K   \u001b[90m━━━━━━━━━━━━━━━━━━━━━━━━━━━━━━━━━━━━━━━━\u001b[0m \u001b[32m11.3/11.3 MB\u001b[0m \u001b[31m85.7 MB/s\u001b[0m eta \u001b[36m0:00:00\u001b[0m\n",
            "\u001b[?25hDownloading safehttpx-0.1.6-py3-none-any.whl (8.7 kB)\n",
            "Downloading semantic_version-2.10.0-py2.py3-none-any.whl (15 kB)\n",
            "Downloading starlette-0.46.1-py3-none-any.whl (71 kB)\n",
            "\u001b[2K   \u001b[90m━━━━━━━━━━━━━━━━━━━━━━━━━━━━━━━━━━━━━━━━\u001b[0m \u001b[32m72.0/72.0 kB\u001b[0m \u001b[31m5.1 MB/s\u001b[0m eta \u001b[36m0:00:00\u001b[0m\n",
            "\u001b[?25hDownloading tomlkit-0.13.2-py3-none-any.whl (37 kB)\n",
            "Downloading uvicorn-0.34.0-py3-none-any.whl (62 kB)\n",
            "\u001b[2K   \u001b[90m━━━━━━━━━━━━━━━━━━━━━━━━━━━━━━━━━━━━━━━━\u001b[0m \u001b[32m62.3/62.3 kB\u001b[0m \u001b[31m5.1 MB/s\u001b[0m eta \u001b[36m0:00:00\u001b[0m\n",
            "\u001b[?25hDownloading ffmpy-0.5.0-py3-none-any.whl (6.0 kB)\n",
            "Downloading pydub-0.25.1-py2.py3-none-any.whl (32 kB)\n",
            "Installing collected packages: pydub, uvicorn, tomlkit, semantic-version, ruff, python-multipart, groovy, ffmpy, aiofiles, starlette, safehttpx, gradio-client, fastapi, gradio\n",
            "Successfully installed aiofiles-23.2.1 fastapi-0.115.12 ffmpy-0.5.0 gradio-5.23.1 gradio-client-1.8.0 groovy-0.1.2 pydub-0.25.1 python-multipart-0.0.20 ruff-0.11.2 safehttpx-0.1.6 semantic-version-2.10.0 starlette-0.46.1 tomlkit-0.13.2 uvicorn-0.34.0\n"
          ]
        }
      ],
      "source": [
        "pip install gradio"
      ]
    },
    {
      "cell_type": "code",
      "execution_count": null,
      "metadata": {
        "id": "vzxZDnCVNmF1"
      },
      "outputs": [],
      "source": [
        "def calculate_next_slots(h, m):\n",
        "  slots = []\n",
        "  slots.append((h,m))\n",
        "  current_minutes = h * 60 + m\n",
        "\n",
        "  for _ in range(3):\n",
        "    current_minutes += 15\n",
        "    new_h = current_minutes // 60\n",
        "    new_m = current_minutes % 60\n",
        "    slots.append((new_h, new_m))\n",
        "\n",
        "  return slots"
      ]
    },
    {
      "cell_type": "code",
      "execution_count": null,
      "metadata": {
        "colab": {
          "background_save": true,
          "base_uri": "https://localhost:8080/",
          "height": 680
        },
        "id": "5at6CUgzzcVo",
        "outputId": "66b2503c-39b9-4b2e-ff18-0cfe61f1e32a"
      },
      "outputs": [
        {
          "name": "stderr",
          "output_type": "stream",
          "text": [
            "/usr/local/lib/python3.11/dist-packages/gradio/interface.py:415: UserWarning: The `allow_flagging` parameter in `Interface` is deprecated.Use `flagging_mode` instead.\n",
            "  warnings.warn(\n"
          ]
        },
        {
          "name": "stdout",
          "output_type": "stream",
          "text": [
            "Running Gradio in a Colab notebook requires sharing enabled. Automatically setting `share=True` (you can turn this off by setting `share=False` in `launch()` explicitly).\n",
            "\n",
            "Colab notebook detected. This cell will run indefinitely so that you can see errors and logs. To turn off, set debug=False in launch().\n",
            "* Running on public URL: https://4b445ef0677e0a5a7f.gradio.live\n",
            "\n",
            "This share link expires in 72 hours. For free permanent hosting and GPU upgrades, run `gradio deploy` from the terminal in the working directory to deploy to Hugging Face Spaces (https://huggingface.co/spaces)\n"
          ]
        },
        {
          "data": {
            "text/html": [
              "<div><iframe src=\"https://4b445ef0677e0a5a7f.gradio.live\" width=\"100%\" height=\"500\" allow=\"autoplay; camera; microphone; clipboard-read; clipboard-write;\" frameborder=\"0\" allowfullscreen></iframe></div>"
            ],
            "text/plain": [
              "<IPython.core.display.HTML object>"
            ]
          },
          "metadata": {},
          "output_type": "display_data"
        }
      ],
      "source": [
        "import gradio as gr\n",
        "import pandas as pd\n",
        "import numpy as np\n",
        "from sklearn.preprocessing import MinMaxScaler\n",
        "from tensorflow.keras.models import load_model\n",
        "import joblib\n",
        "\n",
        "# Load the saved model and scalers\n",
        "model = load_model('/content/drive/MyDrive/taxi_fare_prediction_model.keras')\n",
        "scaler_features = joblib.load('/content/drive/MyDrive/tax_scaler_features.pkl')\n",
        "scaler_target = joblib.load('/content/drive/MyDrive/tax_scaler_target.pkl')\n",
        "\n",
        "\n",
        "\n",
        "def predict_fare(trip_distance, hour_of_day, minute, day_of_week, month, passenger_count):\n",
        "    if passenger_count > 4 or passenger_count < 1:\n",
        "        return 'Invalid Passenger count', '', '', ''\n",
        "\n",
        "    next_slots = calculate_next_slots(hour_of_day, minute)\n",
        "    predictions = []\n",
        "    for i in range(4):\n",
        "        row = np.array([[trip_distance, next_slots[i][0], next_slots[i][1], day_of_week, month, passenger_count]])\n",
        "        input_scaled = scaler_features.transform(row)\n",
        "        input_scaled = input_scaled.reshape((input_scaled.shape[0], 1, input_scaled.shape[1]))\n",
        "        prediction = model.predict(input_scaled)\n",
        "        fare = round(prediction[0][0] * 86)\n",
        "        predictions.append(f\"{next_slots[i][0]}:{next_slots[i][1]} - {fare} rupees\")\n",
        "\n",
        "    return predictions[0], predictions[1], predictions[2], predictions[3]\n",
        "\n",
        "# Create the Gradio interface\n",
        "iface = gr.Interface(\n",
        "    fn=predict_fare,\n",
        "    inputs=[\n",
        "        gr.Number(label=\"Trip Distance\"),\n",
        "        gr.Number(label=\"Hour of Day (0-23)\"),\n",
        "        gr.Number(label=\"Minute (0-59)\"),\n",
        "        gr.Number(label=\"Day of Week (1-7, 1=Monday)\"),\n",
        "        gr.Number(label=\"Month (1-12)\"),\n",
        "        gr.Number(label=\"Passenger Count (1-4)\")\n",
        "    ],\n",
        "    outputs=[\n",
        "        gr.Textbox(label=\"Fare at Slot 1\"),\n",
        "        gr.Textbox(label=\"Fare at Slot 2\"),\n",
        "        gr.Textbox(label=\"Fare at Slot 3\"),\n",
        "        gr.Textbox(label=\"Fare at Slot 4\")\n",
        "    ],\n",
        "    title=\"Taxi Fare Prediction\",\n",
        "    description=\"Predict the fare amount for a taxi trip in New York City.\",allow_flagging='never'\n",
        ")\n",
        "\n",
        "# Launch the interface\n",
        "iface.launch(debug=True)\n"
      ]
    }
  ],
  "metadata": {
    "colab": {
      "provenance": []
    },
    "kernelspec": {
      "display_name": "Python 3",
      "name": "python3"
    },
    "language_info": {
      "name": "python"
    }
  },
  "nbformat": 4,
  "nbformat_minor": 0
}